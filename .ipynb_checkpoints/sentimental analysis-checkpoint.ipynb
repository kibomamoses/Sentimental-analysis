{
 "cells": [
  {
   "cell_type": "markdown",
   "metadata": {},
   "source": [
    "Steps  used \n",
    "\n",
    "Here are the steps we will follow: \n",
    "\n",
    "1. Get the dataset<br/>\n",
    "2. Preprocessing the Data<br/>\n",
    "3. Build the Model<br/>\n",
    "4. Train the model<br/>\n",
    "5. Test the Model<br/>\n",
    "6. Predict Something<br/>\n"
   ]
  },
  {
   "cell_type": "markdown",
   "metadata": {},
   "source": [
    "### 1. Get the dataset"
   ]
  },
  {
   "cell_type": "code",
   "execution_count": 1,
   "metadata": {},
   "outputs": [
    {
     "name": "stderr",
     "output_type": "stream",
     "text": [
      "Using TensorFlow backend.\n"
     ]
    }
   ],
   "source": [
    "# Import libraries\n",
    "import numpy as np\n",
    "import matplotlib.pyplot as plt\n",
    "import seaborn as sns\n",
    "\n",
    "import tensorflow as tf\n",
    "from keras.datasets import imdb\n",
    "from keras.models import Sequential\n",
    "from keras.layers import LSTM, Dense, Flatten, Dropout, Bidirectional\n",
    "from keras.layers.embeddings import Embedding\n",
    "from keras.preprocessing import sequence\n",
    "\n",
    "import re\n",
    "from keras.preprocessing.text import Tokenizer\n",
    "from nltk.stem import WordNetLemmatizer\n",
    "from nltk.corpus import stopwords"
   ]
  },
  {
   "cell_type": "code",
   "execution_count": 2,
   "metadata": {},
   "outputs": [
    {
     "name": "stdout",
     "output_type": "stream",
     "text": [
      "[1, 14, 22, 16, 43, 530, 973, 1622, 1385, 65, 458, 4468, 66, 3941, 4, 173, 36, 256, 5, 25, 100, 43, 838, 112, 50, 670, 22665, 9, 35, 480, 284, 5, 150, 4, 172, 112, 167, 21631, 336, 385, 39, 4, 172, 4536, 1111, 17, 546, 38, 13, 447, 4, 192, 50, 16, 6, 147, 2025, 19, 14, 22, 4, 1920, 4613, 469, 4, 22, 71, 87, 12, 16, 43, 530, 38, 76, 15, 13, 1247, 4, 22, 17, 515, 17, 12, 16, 626, 18, 19193, 5, 62, 386, 12, 8, 316, 8, 106, 5, 4, 2223, 5244, 16, 480, 66, 3785, 33, 4, 130, 12, 16, 38, 619, 5, 25, 124, 51, 36, 135, 48, 25, 1415, 33, 6, 22, 12, 215, 28, 77, 52, 5, 14, 407, 16, 82, 10311, 8, 4, 107, 117, 5952, 15, 256, 4, 31050, 7, 3766, 5, 723, 36, 71, 43, 530, 476, 26, 400, 317, 46, 7, 4, 12118, 1029, 13, 104, 88, 4, 381, 15, 297, 98, 32, 2071, 56, 26, 141, 6, 194, 7486, 18, 4, 226, 22, 21, 134, 476, 26, 480, 5, 144, 30, 5535, 18, 51, 36, 28, 224, 92, 25, 104, 4, 226, 65, 16, 38, 1334, 88, 12, 16, 283, 5, 16, 4472, 113, 103, 32, 15, 16, 5345, 19, 178, 32]\n"
     ]
    }
   ],
   "source": [
    "# Load the dataset using keras datasets\n",
    "(X_train, y_train), (X_test, y_test) = imdb.load_data()\n",
    "X = np.concatenate((X_train, X_test), axis=0)\n",
    "y = np.concatenate((y_train, y_test), axis=0)\n",
    "print(X[0])"
   ]
  },
  {
   "cell_type": "markdown",
   "metadata": {},
   "source": [
    "The words have been replaced by integers that indicate the absolute popularity of the word in the dataset. The sentences in each review are therefore comprised of a sequence of integers.\n",
    "\n",
    "Let's take a quick look at a few aspects of our dataset."
   ]
  },
  {
   "cell_type": "code",
   "execution_count": 3,
   "metadata": {},
   "outputs": [
    {
     "name": "stdout",
     "output_type": "stream",
     "text": [
      "Dataset size \n",
      "Reviews: 50000\n",
      "Labels: 50000\n"
     ]
    }
   ],
   "source": [
    "# Dataset size\n",
    "print(\"Dataset size \")\n",
    "print(f'Reviews: {X.shape[0]}')\n",
    "print(f'Labels: {y.shape[0]}')"
   ]
  },
  {
   "cell_type": "markdown",
   "metadata": {},
   "source": [
    "We can see that there are 50000 reviews with their corresponding labels. "
   ]
  },
  {
   "cell_type": "code",
   "execution_count": 4,
   "metadata": {},
   "outputs": [
    {
     "name": "stdout",
     "output_type": "stream",
     "text": [
      "Classes: \n",
      "[0 1]\n"
     ]
    }
   ],
   "source": [
    "# Number of classes\n",
    "print(\"Classes: \")\n",
    "print(np.unique(y))"
   ]
  },
  {
   "cell_type": "markdown",
   "metadata": {},
   "source": [
    "The label is represented as an integer, 0 for negative, 1 for positive."
   ]
  },
  {
   "cell_type": "code",
   "execution_count": 5,
   "metadata": {},
   "outputs": [
    {
     "name": "stdout",
     "output_type": "stream",
     "text": [
      "Number of unique words: \n",
      "88585\n"
     ]
    }
   ],
   "source": [
    "# Total number of unique words\n",
    "print(\"Number of unique words: \")\n",
    "print(len(np.unique(np.hstack(X))))"
   ]
  },
  {
   "cell_type": "markdown",
   "metadata": {},
   "source": [
    "The entire dataset contains nearly 90000 words. As the integers that have replaced the words are in order of popularity, we will be able to cut down considerably on the number of words on which we train the model."
   ]
  },
  {
   "cell_type": "code",
   "execution_count": 6,
   "metadata": {},
   "outputs": [
    {
     "name": "stdout",
     "output_type": "stream",
     "text": [
      "Review length: \n",
      "Mean 234.76 \n",
      "Standard deviation 172.91\n"
     ]
    },
    {
     "data": {
      "image/png": "[encoded data removed]",
      "text/plain": [
       "<Figure size 720x432 with 1 Axes>"
      ]
     },
     "metadata": {},
     "output_type": "display_data"
    }
   ],
   "source": [
    "# Review lengths\n",
    "print(\"Review length: \")\n",
    "result = [len(x) for x in X]\n",
    "result_mean = np.mean(result)\n",
    "result_std = np.std(result)\n",
    "print(f'Mean {result_mean:.2f} \\nStandard deviation {result_std:.2f}')\n",
    "\n",
    "# Plot review lengths\n",
    "sns.set_style(\"white\")\n",
    "plt.figure(figsize=(10,6))\n",
    "sns.distplot(result, color=\"dodgerblue\")\n",
    "plt.title('Review Length Distribution', fontsize=14)\n",
    "plt.xlabel('Words', fontsize=12)\n",
    "plt.show()"
   ]
  },
  {
   "cell_type": "markdown",
   "metadata": {},
   "source": [
    "The average length for the reviews are 235 words long. As we can see from the distribution graph, most of the reviews fall under the 500 word length. In order to get a good sense of the reviews from the dataset as a whole, we will set our standard review length to 500 words.\n",
    "\n",
    "### 2. Preprocessing the Data"
   ]
  },
  {
   "cell_type": "code",
   "execution_count": 7,
   "metadata": {},
   "outputs": [],
   "source": [
    "## Preprocess the data\n",
    "\n",
    "# load the dataset but only keep the top 5000 words\n",
    "top_words = 5000\n",
    "(X_train, y_train), (X_test, y_test) = imdb.load_data(num_words=top_words,\n",
    "                                                      skip_top=50, # Skip the top 50 common words (e.g. 'the', 'is', 'and')\n",
    "                                                      seed=113,\n",
    "                                                      start_char=1,\n",
    "                                                      oov_char=2)\n",
    "\n",
    "# Use pad_sequences to pad or truncate reviews to 500 words\n",
    "max_words = 500\n",
    "X_train = sequence.pad_sequences(X_train, maxlen=max_words)\n",
    "X_test = sequence.pad_sequences(X_test, maxlen=max_words)"
   ]
  },
  {
   "cell_type": "markdown",
   "metadata": {},
   "source": [
    "### 3. Build the Model\n",
    "\n",
    "Word embedding is a technique where words are encoded as real-valued vectors in a high-dimensional space, where the similarity between words in terms of meaning translates to closeness in the vector space. Keras provides a convenient way to convert positive integer representations of words into a word embedding by an Embedding layer.\n",
    "\n",
    "We will create a Recurrent Neural Network model using LSTM (Long Short-Term Memory) layers, and then a dense hidden layer of 250 neurons. The output layer has one neuron and will use a sigmoid activation to output values of 0 and 1 as predictions."
   ]
  },
  {
   "cell_type": "code",
   "execution_count": 8,
   "metadata": {},
   "outputs": [
    {
     "name": "stdout",
     "output_type": "stream",
     "text": [
      "Model: \"sequential_1\"\n",
      "_________________________________________________________________\n",
      "Layer (type)                 Output Shape              Param #   \n",
      "=================================================================\n",
      "embedding_1 (Embedding)      (None, 500, 32)           160000    \n",
      "_________________________________________________________________\n",
      "bidirectional_1 (Bidirection (None, 500, 64)           16640     \n",
      "_________________________________________________________________\n",
      "dropout_1 (Dropout)          (None, 500, 64)           0         \n",
      "_________________________________________________________________\n",
      "flatten_1 (Flatten)          (None, 32000)             0         \n",
      "_________________________________________________________________\n",
      "dense_1 (Dense)              (None, 250)               8000250   \n",
      "_________________________________________________________________\n",
      "dense_2 (Dense)              (None, 1)                 251       \n",
      "=================================================================\n",
      "Total params: 8,177,141\n",
      "Trainable params: 8,177,141\n",
      "Non-trainable params: 0\n",
      "_________________________________________________________________\n",
      "None\n"
     ]
    }
   ],
   "source": [
    "# Create the model\n",
    "model = Sequential()\n",
    "\n",
    "# Add layers\n",
    "model.add(Embedding(top_words, 32, input_length=max_words))\n",
    "model.add(Bidirectional(LSTM(32, return_sequences = True)))\n",
    "model.add(Dropout(0.2))\n",
    "model.add(Flatten())\n",
    "model.add(Dense(250, activation='relu'))\n",
    "model.add(Dense(1, activation='sigmoid'))\n",
    "\n",
    "# Compile the model\n",
    "model.compile(loss='binary_crossentropy', optimizer='adam', metrics=['accuracy'])\n",
    "print(model.summary())"
   ]
  },
  {
   "cell_type": "markdown",
   "metadata": {},
   "source": [
    "### 4. Train the model\n",
    "\n",
    "We will use a 80/20 split for training and validation on the training data."
   ]
  },
  {
   "cell_type": "code",
   "execution_count": 9,
   "metadata": {},
   "outputs": [
    {
     "name": "stderr",
     "output_type": "stream",
     "text": [
      "C:\\Users\\Admin\\Anaconda3\\lib\\site-packages\\tensorflow_core\\python\\framework\\indexed_slices.py:433: UserWarning: Converting sparse IndexedSlices to a dense Tensor of unknown shape. This may consume a large amount of memory.\n",
      "  \"Converting sparse IndexedSlices to a dense Tensor of unknown shape. \"\n"
     ]
    },
    {
     "name": "stdout",
     "output_type": "stream",
     "text": [
      "Train on 20000 samples, validate on 5000 samples\n",
      "Epoch 1/5\n",
      "20000/20000 [==============================] - 147s 7ms/step - loss: 0.4237 - accuracy: 0.7786 - val_loss: 0.3025 - val_accuracy: 0.8738\n",
      "Epoch 2/5\n",
      "20000/20000 [==============================] - 142s 7ms/step - loss: 0.2226 - accuracy: 0.9124 - val_loss: 0.3284 - val_accuracy: 0.8618\n",
      "Epoch 3/5\n",
      "20000/20000 [==============================] - 144s 7ms/step - loss: 0.1409 - accuracy: 0.9489 - val_loss: 0.4424 - val_accuracy: 0.8374\n",
      "Epoch 4/5\n",
      "20000/20000 [==============================] - 142s 7ms/step - loss: 0.0626 - accuracy: 0.9807 - val_loss: 0.4969 - val_accuracy: 0.8620\n",
      "Epoch 5/5\n",
      "20000/20000 [==============================] - 142s 7ms/step - loss: 0.0192 - accuracy: 0.9944 - val_loss: 0.6042 - val_accuracy: 0.8582\n"
     ]
    },
    {
     "data": {
      "text/plain": [
       "<keras.callbacks.callbacks.History at 0x1456ddb18c8>"
      ]
     },
     "execution_count": 9,
     "metadata": {},
     "output_type": "execute_result"
    }
   ],
   "source": [
    "# Fit the model\n",
    "num_epochs = 5\n",
    "batch = 128\n",
    "model.fit(X_train, \n",
    "          y_train, \n",
    "          validation_split=0.2, \n",
    "          epochs=num_epochs, \n",
    "          batch_size=batch, \n",
    "          verbose=1)"
   ]
  },
  {
   "cell_type": "markdown",
   "metadata": {},
   "source": [
    "### 5. Test the Model\n",
    "\n",
    "We will now test the accuracy of the model by using the 25000 testing samples."
   ]
  },
  {
   "cell_type": "code",
   "execution_count": 10,
   "metadata": {},
   "outputs": [
    {
     "name": "stdout",
     "output_type": "stream",
     "text": [
      "Accuracy: 85.33%\n"
     ]
    }
   ],
   "source": [
    "scores = model.evaluate(X_test, y_test, verbose=0)\n",
    "print(f'Accuracy: {scores[1]*100:.2f}%')"
   ]
  },
  {
   "cell_type": "markdown",
   "metadata": {},
   "source": [
    "### 6. Applying the Model\n",
    "\n",
    "We will create a basic function for applying the model to predict the sentiment of any new reviews that a user may want to input to the model. The user's input will need to be put through a few Natural Language Processing steps before getting to the model in order for the correct input format to be achieved."
   ]
  },
  {
   "cell_type": "code",
   "execution_count": 11,
   "metadata": {},
   "outputs": [],
   "source": [
    "# Define a function for NLP steps\n",
    "stop_words = set(stopwords.words('english')) \n",
    "lemmatizer = WordNetLemmatizer()\n",
    "\n",
    "def clean_text(text):\n",
    "    clean = re.sub(r'[^\\w\\s]','',text, re.UNICODE)\n",
    "    clean = clean.lower()\n",
    "    clean = [lemmatizer.lemmatize(token) for token in clean.split(\" \")]\n",
    "    clean = [lemmatizer.lemmatize(token, \"v\") for token in clean]\n",
    "    clean = [word for word in clean if not word in stop_words]\n",
    "    return clean"
   ]
  },
  {
   "cell_type": "code",
   "execution_count": 12,
   "metadata": {},
   "outputs": [],
   "source": [
    "# Define a function to replace the words with integers using the same imdb index\n",
    "def word_integers(text):\n",
    "    word_index = imdb.get_word_index()\n",
    "    ints = []\n",
    "    for i in text:\n",
    "        try:\n",
    "            word = word_index[i]\n",
    "            if word > top_words: # If the word is outside of our 10000 word vocabulary, it will be ignored\n",
    "                ints.append(2)\n",
    "            else:\n",
    "                ints.append(word_index[i])\n",
    "        except KeyError:\n",
    "            ints.append(2) # If the word is unrecognisable, like an unusual name, it will be ignored\n",
    "            continue\n",
    "    ints = np.array([ints,[]]) # Extra empty list added to create an array of lists, will be remove in a later step\n",
    "    return ints"
   ]
  },
  {
   "cell_type": "code",
   "execution_count": 13,
   "metadata": {},
   "outputs": [],
   "source": [
    "# Define a function to use pad_sequences to achieve the correct input length of 500 words\n",
    "def review_padding(review, max_length):\n",
    "    length = max_length\n",
    "    padded = sequence.pad_sequences(review, maxlen=length)\n",
    "    return padded"
   ]
  },
  {
   "cell_type": "code",
   "execution_count": 39,
   "metadata": {},
   "outputs": [],
   "source": [
    "# Define a function that takes a review as input, then predicts the sentiment as positive or negative\n",
    "def review_predict(review):\n",
    "    # Input should be in string format\n",
    "    pred = clean_text(review)\n",
    "    pred = word_integers(pred)\n",
    "    pred = review_padding(pred, max_words)\n",
    "    pred = np.delete(pred, 1 ,axis=0) # Removes the extra empty list\n",
    "    pred = model.predict(pred)\n",
    "    if pred > 0.5:\n",
    "        result = f'Positive Review {pred[0].round(2)}'\n",
    "    else:\n",
    "        result = f'Negative Review {pred[0].round(2)}'\n",
    "    return result"
   ]
  },
  {
   "cell_type": "code",
   "execution_count": 15,
   "metadata": {},
   "outputs": [],
   "source": [
    "# Example input - 10 star and 1 star user reviews for the film The Invisible Man (2020) from imdb.com\n",
    "good_review = \"In your average horror movie I am continuously scanning the background, but in Leigh Whannell's adaptation of The Invisible Man the horror is right behind you. You just cannot see it. The film is part of the Universal Dark Universe franchise, but reimagined by Leigh. Elisabeth Moss creeps around the gorgeous house, great production design by Alex Holmes, we are led to believe she has drugged her wealthy boyfriend Adrian played by Emerald City's Lucas; Oliver Jackson-Cohen. And in those few moments you could cut the tension with a knife. Barely escaping from this gilded prison with her sister's help, Cecilia finds refuge with her friend James and his daughter Sydney, but always feels someone is watching her. Attempting to beat her agoraphobia she eventually makes it out of the door to the mail box. A small victory. But when Adrian commits suicide, Cecilia's fears are over. With her and Harriet Dyer's sister Emily both amazed when he leaves $5 million to Cecilia, with a few unlikely codicils. But Adrian's lawyer Tom, his own brother, played by For All Mankind's Michael Dorman, assures her everything is fine. And it is. Using Adrian's $10,000 a month will allowance Cecilia sets up a Parsons College fund for Sydney, Storm Reid playing thecool daughter of Aldis Hodge's policeman James. And Cecelia feeling confident enough to work again, but why are her architectural drawings suddenly gone from her case during her interview?, and why is Diazepam suddenly on the bathroom counter?, the same medicine she used to drug Adrian, as she passes out. The hospital results show she had high levels of the Diazepam in her blood. She never took the pills. But Cecilia starts to wonder what if tech billionaire Adrian isn't actually dead, what if he created a way to make himself invisible? Could the man who abused her while he was alive, still be psychologically, and worse, terrorising her in his 'death'? We can see the duvet slipping off the bed, we know someone's there, as the photo is taken, but we cannot see him. Maybe just a foot outline on a sheet. I don't know HG Wells's The Invisible Man, other than there was a series with David McCallum when I was a kid. But Leigh Whannell has created a monster who question's Cecilia's sanity and in a shocking OMG moment ultimately robs her of her family. If no one can see her tormentor, then no one can help. But Cecilia has survived worse when living with Adrian, the painful admitting to James and Emily of the awful life she had is heartbreaking. Apparently self harm scenes were cut from the UK version which would have showed even more the psychological harm he caused her. And I cannot think of a better actress to play Cecilia than Elisabeth Moss, we are willing to invest in her as the abused woman who takes the fight to her abuser. With Tom offering Cecilia a menacing option we're totally up for it. Especially as Cecilia has an ace up her sleeve in this chilling sci-fi thriller. A terrific script and big success for Blumhouse. They are really having a moment with three of their films currently in cinemas. With an impressive score by Benjamin Wallfisch and haunting cinematography by Stefan Duscio that together builds up the suspense. As a horror fan this was superb from Leigh Whannell. The loft scenes were fantastic but it isn't relying only on the jumpy moments. Far too sophisticated a piece of work for that. Well done to the cast and crew.\"\n",
    "bad_review = \"You knew this movie would be horrible as soon as you see the opening credits CGI-ed into the water... HORRIBLE. CinemaSins is going to destroy this thing. Invisible plot holes. Invisible acting skills. Invisible suspense... invisible bank account after everything is done. The main actress (Elisabeth Moss) is seriously a horrible actress. Horrible. And she distracts you from being able to focus on the movie. She overacts every single thing. If she jumps from a sound she exaggerates it by 10x. If she looks over her shoulder to see if someone is following her she exaggerates it by 10x. I honestly am having a hard time even watching her face because it is so ugh. From the first scene the exposition is that of a first-year film student. How do you know she drugged him? She picks up the bottle of pills and shows it to you. But that isn't enough... no no, she also needs to pick up the glass of water and swirl it so you know it is in the bottle. Then she needs to say his name out loud so that he doesn't move. Then she needs to read the bottle again. Over and over. Why is this dude's research lab connected to the garage? Because the movie needs it to be. How did the dog get into the garage? Because the movie needs him there. Why in God's name did the sister stop the car to pick up the main character and then just sit there and not move?? She saw the man running towards the window and just sat there. You know she already knew that her sister was being abused, but she acted like she did not understand why she was picking up her sister in the woods in the middle of the night. Then she continued to sit there while the guy busted out the window like Superman. Am I spoiling the movie? NOPE. Why? Because all of this is in the trailer. Watch the trailer and you will know how horrible this movie is, because the trailer shows every single thing that happens in a linear fashion. Who greenlit this crap???? This movie is the reason why you do not let the director of Insidious 3 write a screenplay for a 100 year old franchise and then direct it, like he has free reign to do whatever tf he wants. I'm sorry, but they need to bring Harvey Weinstein back to Hollywood because the crap that is being churned out is WACK.\""
   ]
  },
  {
   "cell_type": "code",
   "execution_count": 40,
   "metadata": {},
   "outputs": [
    {
     "name": "stdout",
     "output_type": "stream",
     "text": [
      "Prediction for a 10 star review: Positive Review [0.74]\n",
      "Prediction for a 1 star review: Negative Review [0.]\n"
     ]
    }
   ],
   "source": [
    "# Run the predictions and print the results\n",
    "good = review_predict(good_review)\n",
    "bad = review_predict(bad_review)\n",
    "print(f'Prediction for a 10 star review: {good}')\n",
    "print(f'Prediction for a 1 star review: {bad}')"
   ]
  },
  {
   "cell_type": "markdown",
   "metadata": {},
   "source": [
    "As we can see, the model has successfully predicted the sentiment of these 2 film reviews. A user would be able to input their own review and see how the model predicts the sentiment."
   ]
  }
 ],
 "metadata": {
  "kernelspec": {
   "display_name": "Python 3 (ipykernel)",
   "language": "python",
   "name": "python3"
  },
  "language_info": {
   "codemirror_mode": {
    "name": "ipython",
    "version": 3
   },
   "file_extension": ".py",
   "mimetype": "text/x-python",
   "name": "python",
   "nbconvert_exporter": "python",
   "pygments_lexer": "ipython3",
   "version": "3.8.10"
  }
 },
 "nbformat": 4,
 "nbformat_minor": 2
}
